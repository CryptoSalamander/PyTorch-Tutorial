{
 "cells": [
  {
   "cell_type": "markdown",
   "metadata": {},
   "source": [
    "# Lab29 VGG with CIFAR10"
   ]
  },
  {
   "cell_type": "code",
   "execution_count": 4,
   "metadata": {},
   "outputs": [
    {
     "name": "stderr",
     "output_type": "stream",
     "text": [
      "Setting up a new session...\n"
     ]
    },
    {
     "data": {
      "text/plain": [
       "''"
      ]
     },
     "execution_count": 4,
     "metadata": {},
     "output_type": "execute_result"
    }
   ],
   "source": [
    "import torch\n",
    "import torch.nn as nn\n",
    "import torch.optim as optim\n",
    "\n",
    "import torchvision\n",
    "import torchvision.transforms as transforms\n",
    "import visdom\n",
    "\n",
    "vis = visdom.Visdom()\n",
    "vis.close(env=\"main\")"
   ]
  },
  {
   "cell_type": "markdown",
   "metadata": {},
   "source": [
    "## Define Loss Tracker"
   ]
  },
  {
   "cell_type": "code",
   "execution_count": 5,
   "metadata": {},
   "outputs": [],
   "source": [
    "def loss_tracker(loss_plot, loss_value, num):\n",
    "    vis.line(X=num,Y=loss_value,win=loss_plot,update='append')"
   ]
  },
  {
   "cell_type": "code",
   "execution_count": 6,
   "metadata": {},
   "outputs": [],
   "source": [
    "device = 'cuda' if torch.cuda.is_available() else 'cpu'\n",
    "\n",
    "torch.manual_seed(777)\n",
    "if device == 'cuda':\n",
    "    torch.cuda.manual_seed_all(777)"
   ]
  },
  {
   "cell_type": "code",
   "execution_count": 7,
   "metadata": {},
   "outputs": [
    {
     "name": "stderr",
     "output_type": "stream",
     "text": [
      "\r",
      "0it [00:00, ?it/s]"
     ]
    },
    {
     "name": "stdout",
     "output_type": "stream",
     "text": [
      "Downloading https://www.cs.toronto.edu/~kriz/cifar-10-python.tar.gz to ./data/cifar-10-python.tar.gz\n"
     ]
    },
    {
     "name": "stderr",
     "output_type": "stream",
     "text": [
      "100%|█████████▉| 169771008/170498071 [00:26<00:00, 10968074.08it/s]"
     ]
    },
    {
     "name": "stdout",
     "output_type": "stream",
     "text": [
      "Extracting ./data/cifar-10-python.tar.gz to ./data\n",
      "Files already downloaded and verified\n"
     ]
    },
    {
     "name": "stderr",
     "output_type": "stream",
     "text": [
      "\r",
      "170500096it [00:40, 10968074.08it/s]                               "
     ]
    }
   ],
   "source": [
    "transform = transforms.Compose(\n",
    "    [transforms.ToTensor(),\n",
    "     transforms.Normalize((0.5, 0.5, 0.5), (0.5, 0.5, 0.5))]\n",
    ")\n",
    "\n",
    "trainset = torchvision.datasets.CIFAR10(root='./data', train=True, download=True, transform=transform)\n",
    "trainloader = torch.utils.data.DataLoader(trainset, batch_size=512, shuffle=True, num_workers=4)\n",
    "testset = torchvision.datasets.CIFAR10(root='./data', train=False, download=True, transform=transform)\n",
    "testloader = torch.utils.data.DataLoader(testset, batch_size=4, shuffle=False, num_workers=4)\n",
    "\n",
    "classes = ('plane', 'car', 'bird', 'cat', 'deer', 'dog', 'frog', 'horse', 'ship', 'truck')\n"
   ]
  },
  {
   "cell_type": "code",
   "execution_count": 8,
   "metadata": {},
   "outputs": [
    {
     "data": {
      "image/png": "[encoded data removed]",
      "text/plain": [
       "<Figure size 432x288 with 1 Axes>"
      ]
     },
     "metadata": {
      "needs_background": "light"
     },
     "output_type": "display_data"
    },
    {
     "name": "stdout",
     "output_type": "stream",
     "text": [
      "truck   dog horse truck\n"
     ]
    }
   ],
   "source": [
    "import matplotlib.pyplot as plt\n",
    "import numpy as np\n",
    "%matplotlib inline\n",
    "\n",
    "def imshow(img):\n",
    "    img = img / 2 + 0.5\n",
    "    npimg = img.numpy()\n",
    "    plt.imshow(np.transpose(npimg, (1,2,0)))\n",
    "    plt.show()\n",
    "    \n",
    "dataiter = iter(trainloader)\n",
    "images, labels = dataiter.next()\n",
    "vis.images(images/2 + 0.5)\n",
    "\n",
    "imshow(torchvision.utils.make_grid(images))\n",
    "\n",
    "print(' '.join('%5s' % classes[labels[j]] for j in range(4)))"
   ]
  },
  {
   "cell_type": "markdown",
   "metadata": {},
   "source": [
    "## Make VGG16 using vgg.py"
   ]
  },
  {
   "cell_type": "code",
   "execution_count": 9,
   "metadata": {},
   "outputs": [],
   "source": [
    "import torchvision.models.vgg as vgg"
   ]
  },
  {
   "cell_type": "code",
   "execution_count": 10,
   "metadata": {},
   "outputs": [],
   "source": [
    "cfg = [32,32,'M',64,64,128,128,128,'M',256,256,256,512,512,512,'M']"
   ]
  },
  {
   "cell_type": "code",
   "execution_count": 12,
   "metadata": {},
   "outputs": [],
   "source": [
    "class VGG(nn.Module):\n",
    "    def __init__(self, features, num_classes=1000, init_weights=True):\n",
    "        super(VGG,self).__init__()\n",
    "        self.features = features\n",
    "        self.classifier = nn.Sequential(\n",
    "            nn.Linear(512 * 4 * 4, 4096),\n",
    "            nn.ReLU(True),\n",
    "            nn.Dropout(),\n",
    "            nn.Linear(4096, 4096),\n",
    "            nn.ReLU(True),\n",
    "            nn.Dropout(),\n",
    "            nn.Linear(4096, num_classes),\n",
    "        )\n",
    "        if init_weights:\n",
    "            self._initialize_weights()\n",
    "            \n",
    "    def forward(self, x):\n",
    "        x = self.features(x)\n",
    "        x = x.view(x.size(0),-1)\n",
    "        x = self.classifier(x)\n",
    "        return x\n",
    "    \n",
    "    def _initialize_weights(self):\n",
    "        for m in self.modules():\n",
    "            if isinstance(m, nn.Conv2d):\n",
    "                nn.init.kaiming_normal_(m.weight, mode='fan_out', nonlinearity='relu')\n",
    "                if m.bias is not None:\n",
    "                    nn.init.constant_(m.bias, 0)\n",
    "            elif isinstance(m, nn.BatchNorm2d):\n",
    "                nn.init.constant_(m.weight, 1)\n",
    "                nn.init.constant_(m.bias, 0)\n",
    "            elif isinstance(m, nn.Linear):\n",
    "                nn.init.normal_(m.weight, 0, 0.01)\n",
    "                nn.init.constant_(m.bias, 0)"
   ]
  },
  {
   "cell_type": "code",
   "execution_count": 13,
   "metadata": {},
   "outputs": [],
   "source": [
    "vgg16 = VGG(vgg.make_layers(cfg), 10,True).to(device)"
   ]
  },
  {
   "cell_type": "code",
   "execution_count": 14,
   "metadata": {},
   "outputs": [
    {
     "name": "stdout",
     "output_type": "stream",
     "text": [
      "tensor([[ 3.2005e+35, -1.6975e+36, -1.1893e+36,  3.7216e+35, -1.1187e+36,\n",
      "         -1.6774e+33,  8.5624e+35,  1.8786e+35,  1.3612e+36,  1.1897e+36]],\n",
      "       device='cuda:0', grad_fn=<AddmmBackward>)\n"
     ]
    }
   ],
   "source": [
    "a = torch.Tensor(1,3,32,32).to(device)\n",
    "out = vgg16(a)\n",
    "print(out)"
   ]
  },
  {
   "cell_type": "code",
   "execution_count": 15,
   "metadata": {},
   "outputs": [],
   "source": [
    "criterion = nn.CrossEntropyLoss().to(device)\n",
    "optimizer = torch.optim.SGD(vgg16.parameters(), lr = 0.005, momentum=0.9)\n",
    "lr_sche = optim.lr_scheduler.StepLR(optimizer, step_size=5, gamma=0.9)"
   ]
  },
  {
   "cell_type": "markdown",
   "metadata": {},
   "source": [
    "## Make Plot"
   ]
  },
  {
   "cell_type": "code",
   "execution_count": 16,
   "metadata": {},
   "outputs": [],
   "source": [
    "loss_plt = vis.line(Y=torch.Tensor(1).zero_(),opts=dict(title='loss_tracker', legend =['loss'], showlegend=True))"
   ]
  },
  {
   "cell_type": "markdown",
   "metadata": {},
   "source": [
    "## Training"
   ]
  },
  {
   "cell_type": "code",
   "execution_count": 17,
   "metadata": {},
   "outputs": [
    {
     "name": "stdout",
     "output_type": "stream",
     "text": [
      "98\n"
     ]
    },
    {
     "name": "stderr",
     "output_type": "stream",
     "text": [
      "/home/bigcloud/anaconda3/envs/hyunsoo/lib/python3.6/site-packages/torch/optim/lr_scheduler.py:100: UserWarning: Detected call of `lr_scheduler.step()` before `optimizer.step()`. In PyTorch 1.1.0 and later, you should call them in the opposite order: `optimizer.step()` before `lr_scheduler.step()`.  Failure to do this will result in PyTorch skipping the first value of the learning rate schedule.See more details at https://pytorch.org/docs/stable/optim.html#how-to-adjust-learning-rate\n",
      "  \"https://pytorch.org/docs/stable/optim.html#how-to-adjust-learning-rate\", UserWarning)\n"
     ]
    },
    {
     "name": "stdout",
     "output_type": "stream",
     "text": [
      "[1,    30] loss: 2.302\n",
      "[1,    60] loss: 2.299\n",
      "[1,    90] loss: 2.283\n",
      "[2,    30] loss: 2.205\n",
      "[2,    60] loss: 2.126\n",
      "[2,    90] loss: 2.062\n",
      "[3,    30] loss: 1.987\n",
      "[3,    60] loss: 1.864\n",
      "[3,    90] loss: 1.777\n",
      "[4,    30] loss: 1.754\n",
      "[4,    60] loss: 1.670\n",
      "[4,    90] loss: 1.620\n",
      "[5,    30] loss: 1.576\n",
      "[5,    60] loss: 1.521\n",
      "[5,    90] loss: 1.512\n",
      "[6,    30] loss: 1.479\n",
      "[6,    60] loss: 1.446\n",
      "[6,    90] loss: 1.421\n",
      "[7,    30] loss: 1.418\n",
      "[7,    60] loss: 1.364\n",
      "[7,    90] loss: 1.343\n",
      "[8,    30] loss: 1.311\n",
      "[8,    60] loss: 1.299\n",
      "[8,    90] loss: 1.254\n",
      "[9,    30] loss: 1.217\n",
      "[9,    60] loss: 1.229\n",
      "[9,    90] loss: 1.213\n",
      "[10,    30] loss: 1.152\n",
      "[10,    60] loss: 1.135\n",
      "[10,    90] loss: 1.104\n",
      "[11,    30] loss: 1.082\n",
      "[11,    60] loss: 1.039\n",
      "[11,    90] loss: 1.083\n",
      "[12,    30] loss: 1.023\n",
      "[12,    60] loss: 1.013\n",
      "[12,    90] loss: 0.998\n",
      "[13,    30] loss: 0.953\n",
      "[13,    60] loss: 0.955\n",
      "[13,    90] loss: 0.953\n",
      "[14,    30] loss: 0.916\n",
      "[14,    60] loss: 0.897\n",
      "[14,    90] loss: 0.901\n",
      "[15,    30] loss: 0.855\n",
      "[15,    60] loss: 0.849\n",
      "[15,    90] loss: 0.860\n",
      "[16,    30] loss: 0.833\n",
      "[16,    60] loss: 0.812\n",
      "[16,    90] loss: 0.816\n",
      "[17,    30] loss: 0.778\n",
      "[17,    60] loss: 0.777\n",
      "[17,    90] loss: 0.782\n",
      "[18,    30] loss: 0.766\n",
      "[18,    60] loss: 0.742\n",
      "[18,    90] loss: 0.749\n",
      "[19,    30] loss: 0.706\n",
      "[19,    60] loss: 0.699\n",
      "[19,    90] loss: 0.708\n",
      "[20,    30] loss: 0.669\n",
      "[20,    60] loss: 0.665\n",
      "[20,    90] loss: 0.655\n",
      "[21,    30] loss: 0.613\n",
      "[21,    60] loss: 0.631\n",
      "[21,    90] loss: 0.630\n",
      "[22,    30] loss: 0.620\n",
      "[22,    60] loss: 0.591\n",
      "[22,    90] loss: 0.603\n",
      "[23,    30] loss: 0.555\n",
      "[23,    60] loss: 0.572\n",
      "[23,    90] loss: 0.558\n",
      "[24,    30] loss: 0.518\n",
      "[24,    60] loss: 0.534\n",
      "[24,    90] loss: 0.544\n",
      "[25,    30] loss: 0.469\n",
      "[25,    60] loss: 0.486\n",
      "[25,    90] loss: 0.495\n",
      "[26,    30] loss: 0.452\n",
      "[26,    60] loss: 0.445\n",
      "[26,    90] loss: 0.473\n",
      "[27,    30] loss: 0.422\n",
      "[27,    60] loss: 0.422\n",
      "[27,    90] loss: 0.427\n",
      "[28,    30] loss: 0.392\n",
      "[28,    60] loss: 0.387\n",
      "[28,    90] loss: 0.398\n",
      "[29,    30] loss: 0.341\n",
      "[29,    60] loss: 0.354\n",
      "[29,    90] loss: 0.359\n",
      "[30,    30] loss: 0.318\n",
      "[30,    60] loss: 0.306\n",
      "[30,    90] loss: 0.321\n",
      "[31,    30] loss: 0.277\n",
      "[31,    60] loss: 0.291\n",
      "[31,    90] loss: 0.301\n",
      "[32,    30] loss: 0.241\n",
      "[32,    60] loss: 0.246\n",
      "[32,    90] loss: 0.265\n",
      "[33,    30] loss: 0.220\n",
      "[33,    60] loss: 0.232\n",
      "[33,    90] loss: 0.251\n",
      "[34,    30] loss: 0.198\n",
      "[34,    60] loss: 0.206\n",
      "[34,    90] loss: 0.221\n",
      "[35,    30] loss: 0.182\n",
      "[35,    60] loss: 0.178\n",
      "[35,    90] loss: 0.185\n",
      "[36,    30] loss: 0.163\n",
      "[36,    60] loss: 0.162\n",
      "[36,    90] loss: 0.165\n",
      "[37,    30] loss: 0.132\n",
      "[37,    60] loss: 0.147\n",
      "[37,    90] loss: 0.150\n",
      "[38,    30] loss: 0.131\n",
      "[38,    60] loss: 0.126\n",
      "[38,    90] loss: 0.125\n",
      "[39,    30] loss: 0.116\n",
      "[39,    60] loss: 0.118\n",
      "[39,    90] loss: 0.116\n",
      "[40,    30] loss: 0.089\n",
      "[40,    60] loss: 0.094\n",
      "[40,    90] loss: 0.105\n",
      "[41,    30] loss: 0.079\n",
      "[41,    60] loss: 0.076\n",
      "[41,    90] loss: 0.082\n",
      "[42,    30] loss: 0.077\n",
      "[42,    60] loss: 0.075\n",
      "[42,    90] loss: 0.084\n",
      "[43,    30] loss: 0.073\n",
      "[43,    60] loss: 0.068\n",
      "[43,    90] loss: 0.075\n",
      "[44,    30] loss: 0.056\n",
      "[44,    60] loss: 0.060\n",
      "[44,    90] loss: 0.062\n",
      "[45,    30] loss: 0.056\n",
      "[45,    60] loss: 0.047\n",
      "[45,    90] loss: 0.051\n",
      "[46,    30] loss: 0.049\n",
      "[46,    60] loss: 0.051\n",
      "[46,    90] loss: 0.048\n",
      "[47,    30] loss: 0.039\n",
      "[47,    60] loss: 0.047\n",
      "[47,    90] loss: 0.043\n",
      "[48,    30] loss: 0.041\n",
      "[48,    60] loss: 0.042\n",
      "[48,    90] loss: 0.041\n",
      "[49,    30] loss: 0.038\n",
      "[49,    60] loss: 0.033\n",
      "[49,    90] loss: 0.039\n",
      "[50,    30] loss: 0.029\n",
      "[50,    60] loss: 0.029\n",
      "[50,    90] loss: 0.035\n",
      "Finished Training\n"
     ]
    }
   ],
   "source": [
    "print(len(trainloader))\n",
    "epochs = 50\n",
    "\n",
    "for epoch in range(epochs):\n",
    "    running_loss = 0.0\n",
    "    lr_sche.step()\n",
    "    for i, data in enumerate(trainloader, 0):\n",
    "        inputs, labels = data\n",
    "        inputs = inputs.to(device)\n",
    "        labels = labels.to(device)\n",
    "        \n",
    "        optimizer.zero_grad()\n",
    "        outputs = vgg16(inputs)\n",
    "        loss = criterion(outputs, labels)\n",
    "        loss.backward()\n",
    "        optimizer.step()\n",
    "        \n",
    "        running_loss += loss.item()\n",
    "        if i % 30 == 29:\n",
    "            loss_tracker(loss_plt, torch.Tensor([running_loss/30]), torch.Tensor([i + epoch * len(trainloader)]))\n",
    "            print('[%d, %5d] loss: %.3f' % (epoch+1, i+1, running_loss /30))\n",
    "            running_loss = 0.0\n",
    "print('Finished Training')"
   ]
  },
  {
   "cell_type": "code",
   "execution_count": 18,
   "metadata": {},
   "outputs": [
    {
     "data": {
      "image/png": "[encoded data removed]",
      "text/plain": [
       "<Figure size 432x288 with 1 Axes>"
      ]
     },
     "metadata": {
      "needs_background": "light"
     },
     "output_type": "display_data"
    },
    {
     "name": "stdout",
     "output_type": "stream",
     "text": [
      "GroundTruth:    cat  ship  ship plane\n"
     ]
    }
   ],
   "source": [
    "dataiter = iter(testloader)\n",
    "images, labels = dataiter.next()\n",
    "\n",
    "imshow(torchvision.utils.make_grid(images))\n",
    "print('GroundTruth: ', ' '.join('%5s' % classes[labels[j]] for j in range(4)))"
   ]
  },
  {
   "cell_type": "code",
   "execution_count": 19,
   "metadata": {},
   "outputs": [],
   "source": [
    "outputs = vgg16(images.to(device))"
   ]
  },
  {
   "cell_type": "code",
   "execution_count": 20,
   "metadata": {},
   "outputs": [
    {
     "name": "stdout",
     "output_type": "stream",
     "text": [
      "Predicted:    cat  ship  ship plane\n"
     ]
    }
   ],
   "source": [
    "_, predicted = torch.max(outputs, 1)\n",
    "print('Predicted: ', ' '.join('%5s' % classes[predicted[j]] for j in range(4)))"
   ]
  },
  {
   "cell_type": "code",
   "execution_count": 21,
   "metadata": {},
   "outputs": [
    {
     "name": "stdout",
     "output_type": "stream",
     "text": [
      "Accuracy of the network on the 10000 test images: 75 %\n"
     ]
    }
   ],
   "source": [
    "correct = 0\n",
    "total = 0\n",
    "with torch.no_grad():\n",
    "    for data in testloader:\n",
    "        images, labels = data\n",
    "        images = images.to(device)\n",
    "        labels = labels.to(device)\n",
    "        outputs = vgg16(images)\n",
    "        \n",
    "        _, predicted = torch.max(outputs.data, 1)\n",
    "        \n",
    "        total += labels.size(0)\n",
    "        correct += (predicted == labels).sum().item()\n",
    "        \n",
    "print('Accuracy of the network on the 10000 test images: %d %%' %(100*correct / total))"
   ]
  }
 ],
 "metadata": {
  "kernelspec": {
   "display_name": "Python 3",
   "language": "python",
   "name": "python3"
  },
  "language_info": {
   "codemirror_mode": {
    "name": "ipython",
    "version": 3
   },
   "file_extension": ".py",
   "mimetype": "text/x-python",
   "name": "python",
   "nbconvert_exporter": "python",
   "pygments_lexer": "ipython3",
   "version": "3.6.10"
  }
 },
 "nbformat": 4,
 "nbformat_minor": 4
}
